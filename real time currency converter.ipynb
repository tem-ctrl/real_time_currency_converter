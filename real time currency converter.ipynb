{
 "cells": [
  {
   "cell_type": "code",
   "execution_count": 1,
   "metadata": {},
   "outputs": [],
   "source": [
    "# impot required packages\n",
    "import requests, json\n",
    "import socket  # To test internet availability"
   ]
  },
  {
   "cell_type": "markdown",
   "metadata": {},
   "source": [
    "The  [ISO 4217 standard](https://currencysystem.com/codes/) defines the standard currencies with their associated three-letter codes."
   ]
  },
  {
   "cell_type": "code",
   "execution_count": 2,
   "metadata": {},
   "outputs": [],
   "source": [
    "# define our function\n",
    "def convert(amount, from_curr = 'USD', to_curr = 'USD', api_key=None):\n",
    "    \"\"\"\n",
    "    Converts currencies from source currency to target currency\n",
    "    \n",
    "    Args:\n",
    "    -----\n",
    "    amount : float\n",
    "            Amount of input_curr to be converted\n",
    "    from_curr : String\n",
    "            Three letter code of the input currency in capital letters\n",
    "    to_curr : String\n",
    "            Three letter code of the output currency\n",
    "    \n",
    "    Returns:\n",
    "    --------\n",
    "    float: equivalent amount in output currency.\n",
    "    \"\"\"\n",
    "    # Store the very first conversion rates and the corresponding date\n",
    "    old_date = 'Mon, 30 Aug 2021 00:02:31 UTC'\n",
    "    old_rate = {'USD': 1, 'AED': 3.67, 'AFN': 79.87, 'ALL': 103.65, 'AMD': 493.71, 'ANG': 1.79, 'AOA': 639.47,\n",
    "                'ARS': 97.4, 'AUD': 1.37, 'AWG': 1.79, 'AZN': 1.7, 'BAM': 1.66, 'BBD': 2, 'BDT': 85.12, 'BGN': 1.66,\n",
    "                'BHD': 0.376, 'BIF': 1975.19, 'BMD': 1, 'BND': 1.35, 'BOB': 6.89, 'BRL': 5.25, 'BSD': 1, 'BTN': 73.66,\n",
    "                'BWP': 11.22, 'BYN': 2.52, 'BZD': 2, 'CAD': 1.26, 'CDF': 1988.5, 'CHF': 0.913, 'CLP': 786.66, \n",
    "                'CNY': 6.47, 'COP': 3867.5, 'CRC': 620.95, 'CUC': 1, 'CUP': 25.75, 'CVE': 93.53, 'CZK': 21.72, \n",
    "                'DJF': 177.72, 'DKK': 6.33,'DOP': 57.03, 'DZD': 135.8, 'EGP': 15.69, 'ERN': 15, 'ETB': 45.61, \n",
    "                'EUR': 0.848, 'FJD': 2.1, 'FKP': 0.727, 'FOK': 6.33, 'GBP': 0.727, 'GEL': 3.12, 'GGP': 0.727, \n",
    "                'GHS': 6.04, 'GIP': 0.727, 'GMD': 52.08, 'GNF': 9812.27, 'GTQ': 7.73, 'GYD': 209.33, 'HKD': 7.79,\n",
    "                'HNL': 23.84, 'HRK': 6.39, 'HTG': 96.52, 'HUF': 298.11, 'IDR': 14456.5, 'ILS': 3.25, 'IMP': 0.727, \n",
    "                'INR': 73.66, 'IQD': 1460.62, 'IRR': 41781.6, 'ISK': 126.71, 'JMD': 152.56, 'JOD': 0.709, 'JPY': 109.93,\n",
    "                'KES': 109.76, 'KGS': 84.68, 'KHR': 4083.3, 'KID': 1.37, 'KMF': 417.29, 'KRW': 1166.06, 'KWD': 0.3,\n",
    "                'KYD': 0.833, 'KZT': 427.08, 'LAK': 9606.15, 'LBP': 1507.5, 'LKR': 200.03, 'LRD': 171.73, 'LSL': 14.75,\n",
    "                'LYD': 4.53, 'MAD': 8.97, 'MDL': 17.66, 'MGA': 3914.08, 'MKD': 52.29, 'MMK': 1645.07, 'MNT': 2855.92,\n",
    "                'MOP': 8.02, 'MRU': 36.17, 'MUR': 42.67, 'MVR': 15.34, 'MWK': 810.72, 'MXN': 20.27, 'MYR': 4.19, \n",
    "                'MZN': 63.94, 'NAD': 14.75, 'NGN': 416.6, 'NIO': 35.17, 'NOK': 8.74, 'NPR': 117.85, 'NZD': 1.43, \n",
    "                'OMR': 0.384, 'PAB': 1, 'PEN': 4.07, 'PGK': 3.51, 'PHP': 49.97, 'PKR': 166.18, 'PLN': 3.89, 'PYG': 6944.8,\n",
    "                'QAR': 3.64, 'RON': 4.18, 'RSD': 100, 'RUB': 73.86, 'RWF': 1007.5, 'SAR': 3.75, 'SBD': 7.94, 'SCR': 14.52, \n",
    "                'SDG': 442.67, 'SEK': 8.66, 'SGD': 1.35, 'SHP': 0.727, 'SLL': 10332.81, 'SOS': 579.08, 'SRD': 21.45, \n",
    "                'SSP': 177.61, 'STN': 20.78, 'SYP': 1258.24, 'SZL': 14.75, 'THB': 32.72, 'TJS': 11.29, 'TMT': 3.5,\n",
    "                'TND': 2.78, 'TOP': 2.24, 'TRY': 8.38, 'TTD': 6.78, 'TVD': 1.37, 'TWD': 27.89, 'TZS': 2315.97, \n",
    "                'UAH': 26.89, 'UGX': 3532.35, 'UYU': 42.78, 'UZS': 10732.83, 'VES': 4139860.26, 'VND': 22889.82, \n",
    "                'VUV': 112.42, 'WST': 2.55, 'XAF': 556.38, 'XCD': 2.7, 'XDR': 0.705, 'XOF': 556.38,\n",
    "                'XPF': 101.22, 'YER': 250.63, 'ZAR': 14.75, 'ZMW': 15.98}\n",
    "    \n",
    "    # Check internet availability\n",
    "    def is_connected():\n",
    "        try:\n",
    "            socket.create_connection((\"1.1.1.1\", 53))\n",
    "            return True\n",
    "        except OSError:\n",
    "            pass\n",
    "        return False\n",
    "    \n",
    "    # Base currency for rates\n",
    "    base_curr = 'USD'\n",
    "    \n",
    "    # Define exchange url based on the availability of API key\n",
    "    if api_key == None:\n",
    "        url = 'https://open.er-api.com/v6/latest/'+ base_curr\n",
    "    else:\n",
    "        url = 'https://v6.exchangerate-api.com/v6/'+ api_key + '/latest/'+ base_curr\n",
    "    \n",
    "    # if connected, download new rate, else use old rate\n",
    "    if is_connected():\n",
    "        result = requests.get(url, timeout=15).json()\n",
    "        rate_usd = result['conversion_rates']\n",
    "        old_date = result['time_last_update_utc'][:-6] + ' UTC'\n",
    "    else:\n",
    "        print(\"Can't connect to internet... \\nUsing old rate from {}\".format(old_date))\n",
    "        rate_usd = old_rate\n",
    "    \n",
    "    # Calculate the equivalent amount in target currency\n",
    "    output_amount = (amount / rate_usd[from_curr]) * rate_usd[to_curr]\n",
    "\n",
    "    return output_amount"
   ]
  },
  {
   "cell_type": "markdown",
   "metadata": {},
   "source": [
    "Refer to [ExchangeRate-API Documentation](https://www.exchangerate-api.com/docs/overview) for more information about the **API Key**"
   ]
  },
  {
   "cell_type": "markdown",
   "metadata": {},
   "source": [
    "### Testing our function"
   ]
  },
  {
   "cell_type": "code",
   "execution_count": 3,
   "metadata": {},
   "outputs": [
    {
     "data": {
      "text/plain": [
       "55638.329999999994"
      ]
     },
     "execution_count": 3,
     "metadata": {},
     "output_type": "execute_result"
    }
   ],
   "source": [
    "# When connected to internet\n",
    "\n",
    "api = '8062c791d8d886de36c204d5'\n",
    "convert(100, 'USD', 'XAF', api)"
   ]
  },
  {
   "cell_type": "code",
   "execution_count": 4,
   "metadata": {},
   "outputs": [
    {
     "name": "stdout",
     "output_type": "stream",
     "text": [
      "Can't connect to internet... \n",
      "Using old rate from Mon, 30 Aug 2021 00:02:31 UTC\n"
     ]
    },
    {
     "data": {
      "text/plain": [
       "55638.0"
      ]
     },
     "execution_count": 4,
     "metadata": {},
     "output_type": "execute_result"
    }
   ],
   "source": [
    "# Offline\n",
    "\n",
    "api = '8062c791d8d886de36c204d5'\n",
    "convert(100, 'USD', 'XAF', api)"
   ]
  },
  {
   "cell_type": "markdown",
   "metadata": {},
   "source": [
    "## The future modifications of this function intends to implement error handling"
   ]
  },
  {
   "cell_type": "code",
   "execution_count": null,
   "metadata": {},
   "outputs": [],
   "source": []
  }
 ],
 "metadata": {
  "kernelspec": {
   "display_name": "Python 3",
   "language": "python",
   "name": "python3"
  },
  "language_info": {
   "codemirror_mode": {
    "name": "ipython",
    "version": 3
   },
   "file_extension": ".py",
   "mimetype": "text/x-python",
   "name": "python",
   "nbconvert_exporter": "python",
   "pygments_lexer": "ipython3",
   "version": "3.8.3"
  }
 },
 "nbformat": 4,
 "nbformat_minor": 4
}
